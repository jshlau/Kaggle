{
  "metadata": {
    "language_info": {
      "file_extension": ".py",
      "nbconvert_exporter": "python",
      "mimetype": "text/x-python",
      "codemirror_mode": {
        "name": "ipython",
        "version": 3
      },
      "pygments_lexer": "ipython3",
      "name": "python",
      "version": "3.6.1"
    },
    "kernelspec": {
      "display_name": "Python 3",
      "language": "python",
      "name": "python3"
    }
  },
  "nbformat_minor": 1,
  "cells": [
    {
      "execution_count": null,
      "metadata": {
        "collapsed": true,
        "_uuid": "3a71d262cf9e3581c9080913337b7fd618c751d0"
      },
      "source": [
        "import pandas as pd\n",
        "import numpy as np\n",
        "import seaborn as sns\n",
        "\n",
        "import matplotlib.pyplot as plt\n",
        "%matplotlib inline"
      ],
      "cell_type": "code",
      "outputs": []
    },
    {
      "execution_count": null,
      "metadata": {
        "_cell_guid": "55b2cb8d-e0c6-409e-975e-8cd69aeadfc1",
        "collapsed": true,
        "_uuid": "56c4d5f681e1b58c0f8cfcebdf9009d5c9ed4c58"
      },
      "source": [
        "data = pd.read_csv('../input/auto-mpg.csv')"
      ],
      "cell_type": "code",
      "outputs": []
    },
    {
      "metadata": {
        "_uuid": "3bcd3ca074b031b980c81e866837d311933ea56d"
      },
      "source": [
        "## About the Data"
      ],
      "cell_type": "markdown",
      "outputs": [],
      "execution_count": null
    },
    {
      "metadata": {
        "_uuid": "301b9c084833440a1a559eced4cbd4e74976ea12"
      },
      "source": [
        "CSV source: https://www.kaggle.com/uciml/autompg-dataset\n",
        "\n",
        "Can also be found on the UCI Machine Learning Repository\n",
        "\n",
        "**From UCI ML Repository**\n",
        "\n",
        "This dataset was taken from the StatLib library which is maintained at Carnegie Mellon University. The dataset was used in the 1983 American Statistical Association Exposition.\n",
        "\n",
        "Data Set Information:\n",
        "\n",
        "This dataset is a slightly modified version of the dataset provided in the StatLib library. In line with the use by Ross Quinlan (1993) in predicting the attribute \"mpg\", 8 of the original instances were removed because they had unknown values for the \"mpg\" attribute. The original dataset is available in the file \"auto-mpg.data-original\". \n",
        "\n",
        "\"The data concerns city-cycle fuel consumption in miles per gallon, to be predicted in terms of 3 multivalued discrete and 5 continuous attributes.\" (Quinlan, 1993)"
      ],
      "cell_type": "markdown",
      "outputs": [],
      "execution_count": null
    },
    {
      "metadata": {
        "_uuid": "bc2ae6c44d7818731de2772ed7b11d6b08d61710"
      },
      "source": [
        "## Data Dictionary\n",
        "|Attribute|Description|\n",
        "|-|-|\n",
        "|mpg|Miles per gallon. Continuous variable|\n",
        "|cylinders|Number of cylinders in the engine|\n",
        "|displacement|Total swept volume displacement of engine through 1 cycle (Commonly used in cm<sup>3</sup>)|\n",
        "|horsepower|Unit of power. Often abbreviated as hp. 1 hp is equivalent to around 750 watts|\n",
        "|weight|Weight of the car, in pounds|\n",
        "|acceleration|Assumed to be the time it takes for the vehicle to accelerate from 0 to 60 miles per hour (mph)|\n",
        "|model year|Year of manufacture|\n",
        "|origin|1 = North America. 2 = Europe, 3 = Japan/Asia|\n",
        "|car name|Make and model of the car|"
      ],
      "cell_type": "markdown",
      "outputs": [],
      "execution_count": null
    },
    {
      "metadata": {
        "_uuid": "14c6ced29ee4be312b95c02785dbcd2661054cc0"
      },
      "source": [
        "### Descriptive Stats & Sanity Check"
      ],
      "cell_type": "markdown",
      "outputs": [],
      "execution_count": null
    },
    {
      "execution_count": null,
      "metadata": {
        "_uuid": "2cf150e030fa8292712955c7c4a756132685e332"
      },
      "source": [
        "data.head()"
      ],
      "cell_type": "code",
      "outputs": []
    },
    {
      "execution_count": null,
      "metadata": {
        "_uuid": "628dc27b487608a5688ac0f8fd2a4371633f68df"
      },
      "source": [
        "data.shape"
      ],
      "cell_type": "code",
      "outputs": []
    },
    {
      "execution_count": null,
      "metadata": {
        "scrolled": true,
        "_uuid": "3f8f84b3e46a53de338ccb622958bc8c7d86c902"
      },
      "source": [
        "data.info()"
      ],
      "cell_type": "code",
      "outputs": []
    },
    {
      "metadata": {
        "_uuid": "7feeb38c940f4bf177b824a62d090bb1e1aff2db"
      },
      "source": [
        "Horsepower is regarded as an object. Will check later"
      ],
      "cell_type": "markdown",
      "outputs": [],
      "execution_count": null
    },
    {
      "execution_count": null,
      "metadata": {
        "_uuid": "9b0d16fb346de54dd2d56bf20032c688c3b89318"
      },
      "source": [
        "data.describe()"
      ],
      "cell_type": "code",
      "outputs": []
    },
    {
      "execution_count": null,
      "metadata": {
        "scrolled": true,
        "_uuid": "004d030fa1735ffa8599fdd495e7e49174f4446c"
      },
      "source": [
        "# Check for any null values\n",
        "data.isnull().any()"
      ],
      "cell_type": "code",
      "outputs": []
    },
    {
      "metadata": {
        "_uuid": "c67dff99b69c5fbfef78d5d063c13cc025400fc3"
      },
      "source": [
        "## Data Transformation and Cleaning"
      ],
      "cell_type": "markdown",
      "outputs": [],
      "execution_count": null
    },
    {
      "execution_count": null,
      "metadata": {
        "collapsed": true,
        "_uuid": "eb0dbffabcce2e17b915a4413214a38b4e02058c"
      },
      "source": [
        "# Splits car name in to manufacturer and model\n",
        "data['manufacturer'],data['model']=data['car name'].str.split(' ',1).str"
      ],
      "cell_type": "code",
      "outputs": []
    },
    {
      "execution_count": null,
      "metadata": {
        "collapsed": true,
        "_uuid": "ea24e22371ca267d1dbabd4a7b25d686acf64f98"
      },
      "source": [
        "# Change it so that the model year corresponds with the appropriate year in the 1900\n",
        "data['model year']=1900+data['model year']"
      ],
      "cell_type": "code",
      "outputs": []
    },
    {
      "execution_count": null,
      "metadata": {
        "scrolled": true,
        "_uuid": "b98f9f2a381d09c4ccfdcd60a37fe53bc152f74d"
      },
      "source": [
        "# Validation of above transformations\n",
        "data.sample(5)"
      ],
      "cell_type": "code",
      "outputs": []
    },
    {
      "execution_count": null,
      "metadata": {
        "_uuid": "d07a0b1433bfdcafb970b1e76b7fdaaf87a9a028"
      },
      "source": [
        "# Check for NaNs after the transformation\n",
        "data.isnull().any()"
      ],
      "cell_type": "code",
      "outputs": []
    },
    {
      "execution_count": null,
      "metadata": {
        "_uuid": "17a41b47911b31eda2e1267dba7d1016f306697b"
      },
      "source": [
        "# Hunting the null value\n",
        "data_null = data[data.isnull().any(axis=1)]\n",
        "print(data_null)"
      ],
      "cell_type": "code",
      "outputs": []
    },
    {
      "metadata": {
        "_uuid": "3762b6643bb5f685618b7c1ee4c399fb2b069ac2"
      },
      "source": [
        "2 null values occurred after the slicing of the car name - both by Subaru albeit in other years.\n",
        "\n",
        "The car models does not have any major effect upon any future work, so they'll be left in. After all, mpg, cylinders, displacement etc are more important to future ML algorithms than the model."
      ],
      "cell_type": "markdown",
      "outputs": [],
      "execution_count": null
    },
    {
      "execution_count": null,
      "metadata": {
        "_uuid": "14bc2bc0340b7f630fae36e1293d171ada63dff3"
      },
      "source": [
        "# Look at unique manufacturer names\n",
        "orig_1_manufacturer = set() # Blank sets\n",
        "orig_2_manufacturer = set() # Blank sets\n",
        "orig_3_manufacturer = set() # Blank sets\n",
        "\n",
        "for row in data.loc[data.origin == 1].manufacturer:\n",
        "    orig_1_manufacturer.add(row)\n",
        "    \n",
        "for row in data.loc[data.origin == 2].manufacturer:\n",
        "    orig_2_manufacturer.add(row)\n",
        "    \n",
        "for row in data.loc[data.origin == 3].manufacturer:\n",
        "    orig_3_manufacturer.add(row)\n",
        "\n",
        "print(\"North American manufacturers\")\n",
        "print(orig_1_manufacturer)\n",
        "print(\"\\nEuropean manufacturers\")\n",
        "print(orig_2_manufacturer)\n",
        "print(\"\\nAsian\\\\Japanese manufacturers\")\n",
        "print(orig_3_manufacturer)"
      ],
      "cell_type": "code",
      "outputs": []
    },
    {
      "metadata": {
        "_uuid": "a441acbc7824321cb332301efa3af9c0c3e33997"
      },
      "source": [
        "For Origin == 1, we see a spelling error, where 'chevrolet' was entered as 'chevroelt'. There also is this 'hi' brand, which is new.\n",
        "\n",
        "For Origin 2, 'vw' pops out. As VW is the standard abbreviation for Volkswagen, it stands to reason that it was incorrectly labeled. Another incorrect spelling of vokswagen can also be seen.\n",
        "\n",
        "For Origin 3, mazda was incorrectly entered as maxda. Toyouta should be toyota.\n",
        "In summary, three spelling errors to take care of."
      ],
      "cell_type": "markdown",
      "outputs": [],
      "execution_count": null
    },
    {
      "execution_count": null,
      "metadata": {
        "collapsed": true,
        "_uuid": "fdedadb9d3e00c1b4b69a29675fa9ca0258181b0"
      },
      "source": [
        "# Create a map of incorrect spellings\n",
        "incorrect_to_correct = {'maxda':'mazda','vw':'volkswagen','chevroelt':'chevrolet', 'toyouta':'toyota','vokswagen':\n",
        "                       'volkswagen'}\n",
        "\n",
        "# Replace the incorrect values with the map\n",
        "data.replace({'manufacturer':incorrect_to_correct},inplace=True)"
      ],
      "cell_type": "code",
      "outputs": []
    },
    {
      "execution_count": null,
      "metadata": {
        "_uuid": "979a505e55ce763cfa3501970d9af267b83e9c52"
      },
      "source": [
        "# Let's double check on the incorrect spellings\n",
        "print(data[data['manufacturer'] == 'maxda'])\n",
        "print(data[data['manufacturer'] == 'vw'])\n",
        "print(data[data['manufacturer'] == 'chevroelt'])\n",
        "print(data[data['manufacturer'] == 'toyouta'])\n",
        "print(data[data['manufacturer'] == 'vokswagen'])"
      ],
      "cell_type": "code",
      "outputs": []
    },
    {
      "metadata": {
        "_uuid": "7dba28d78a632d2bb560527456cb5f78079839f9"
      },
      "source": [
        "Empty dataframes means that the spellings are now correct.\n",
        "\n",
        "One other interesting note is the use of Chevy and Chevrolet as car manufacturers. Historically, Chevrolet cars have also been referred to as Chevy colloquially. As such, this will be corrected in order for future work."
      ],
      "cell_type": "markdown",
      "outputs": [],
      "execution_count": null
    },
    {
      "execution_count": null,
      "metadata": {
        "collapsed": true,
        "_uuid": "5aeb7eadd1b14685d2c680e7c966382a59e5d113"
      },
      "source": [
        "incorrect_to_correct = {'chevy':'chevrolet'}\n",
        "data.replace({'manufacturer':incorrect_to_correct},inplace=True)"
      ],
      "cell_type": "code",
      "outputs": []
    },
    {
      "execution_count": null,
      "metadata": {
        "scrolled": false,
        "_uuid": "8193e2df351b15fcc84775cb5e4804b67ea4071e"
      },
      "source": [
        "print(data[data['manufacturer'] == 'chevy'])"
      ],
      "cell_type": "code",
      "outputs": []
    },
    {
      "execution_count": null,
      "metadata": {
        "scrolled": true,
        "_uuid": "29522f9112e3c04682bed292123fbc2debbe6295"
      },
      "source": [
        "# Let's go a little deeper than make and into models\n",
        "# Count the entries by manufacturer\n",
        "orig_1_model = set() # Blank sets\n",
        "orig_2_model = set() # Blank sets\n",
        "orig_3_model = set() # Blank sets\n",
        "\n",
        "for row in data.loc[data.origin == 1].model:\n",
        "    orig_1_model.add(row)\n",
        "    \n",
        "for row in data.loc[data.origin == 2].model:\n",
        "    orig_2_model.add(row)\n",
        "    \n",
        "for row in data.loc[data.origin == 3].model:\n",
        "    orig_3_model.add(row)\n",
        "\n",
        "print(\"North American modelss\")\n",
        "print(orig_1_model)\n",
        "print(\"\\nEuropean modelss\")\n",
        "print(orig_2_model)\n",
        "print(\"\\nAsian\\\\Japanese models\")\n",
        "print(orig_3_model)"
      ],
      "cell_type": "code",
      "outputs": []
    },
    {
      "execution_count": null,
      "metadata": {
        "scrolled": false,
        "_uuid": "354bbc11aa9e776dd2c1efc5ed450e0642d74386"
      },
      "source": [
        "# Actual numbers of model by region\n",
        "print(\"North American manufacturers\")\n",
        "print(len(orig_1_model))\n",
        "print(\"\\nEuropean manufacturers\")\n",
        "print(len(orig_2_model))\n",
        "print(\"\\nAsian\\\\Japanese manufacturers\")\n",
        "print(len(orig_3_model))"
      ],
      "cell_type": "code",
      "outputs": []
    },
    {
      "metadata": {
        "_uuid": "ef2d2d95d870d485c73d0641ba6bfc5d2f2849da"
      },
      "source": [
        "Considering that the dataframe contains more North American manufacturers than other regions, it stands to reason that there will be more North American models. This can be observed in the next section, which is Exploratory Data Analysis."
      ],
      "cell_type": "markdown",
      "outputs": [],
      "execution_count": null
    },
    {
      "execution_count": null,
      "metadata": {
        "scrolled": true,
        "_uuid": "1162cb8517548c1fcf5e3fdca008485f90635f14"
      },
      "source": [
        "# Here we can see that horsepower is regarded as an object when it should be an integer, or float.\n",
        "data.info()"
      ],
      "cell_type": "code",
      "outputs": []
    },
    {
      "execution_count": null,
      "metadata": {
        "_uuid": "4426277202c32bd795a43588210573a88dc7f0e8"
      },
      "source": [
        "# All horsepower values should be floats or integers\n",
        "\n",
        "# Find all non-numerical values in horsepower\n",
        "data[data['horsepower'].str.contains(u'\\D')]"
      ],
      "cell_type": "code",
      "outputs": []
    },
    {
      "metadata": {
        "_uuid": "5e644370181c166e1268ccbea17994c0cbf189e4"
      },
      "source": [
        "All values here are according to www.automobile-catalog.com\n",
        "\n",
        "According to the Automobile Catalog, each car had several versions/submodels available. As such, we attempted to match the listed charastics here (mpg, displacement, weight) with Automobile Catalog entries.\n",
        "\n",
        "|Row | Car Name | Horsepower (hp) |\n",
        "|-|-|\n",
        "|32|<center>Ford Pinto 1971</center>|<center>75</center>|\n",
        "|126|<center>Ford Maverick 1974</center>|<center>85</center>|\n",
        "|330|<center>Renault Lecar Deluxe 1980</center>|<center>51</center>|\n",
        "|336|<center>Ford Mustang Cobra 1980</center>|<center>120</center>|\n",
        "|354|<center>Renault 19i 1981</center>|<center>74</center>|\n",
        "|374|<center>AMC Concord dl 1982</center>|<center>82</center>|\n",
        "\n",
        "There are some conflicts with the reported values, as other websites may have higher or lower hp listed. If there was no better match between 2-3 listings, an average value was aggregated."
      ],
      "cell_type": "markdown",
      "outputs": [],
      "execution_count": null
    },
    {
      "execution_count": null,
      "metadata": {
        "scrolled": false,
        "_uuid": "659ffe9e8f8b8e2096469242156807a8d6526110"
      },
      "source": [
        "# Setting the value for Ford Pinto 1971\n",
        "data.set_value(32,'horsepower',75)\n",
        "# Setting the value for Ford Maverick 1974\n",
        "data.set_value(126,'horsepower',85)\n",
        "# Setting the value for Renault Lecar Deluxe 1980\n",
        "data.set_value(330,'horsepower',51)\n",
        "# Setting the value for Ford Mustang Cobra 1980\n",
        "data.set_value(336,'horsepower',120)\n",
        "# Setting the value for Renault 19i 1981\n",
        "data.set_value(354,'horsepower',74)\n",
        "# Setting the value for AMC Concord dl 1982\n",
        "data.set_value(374,'horsepower',82)\n",
        "\n",
        "print(\"Checking the Ford Pinto data\")\n",
        "print(data.loc[32])\n",
        "print(\"\\nChecking the AMC Concord data\")\n",
        "print(data.loc[374])"
      ],
      "cell_type": "code",
      "outputs": []
    },
    {
      "execution_count": null,
      "metadata": {
        "_uuid": "030c37714431517a646806a9434c3afe79c84bea"
      },
      "source": [
        "# Cast horsepower to integer\n",
        "data['horsepower'] = data.horsepower.astype(int)"
      ],
      "cell_type": "code",
      "outputs": []
    },
    {
      "execution_count": null,
      "metadata": {
        "_uuid": "47ddf54d2af44414adc84ce3cec0bfbc3250079d"
      },
      "source": [
        "# Confirmation\n",
        "data.info()"
      ],
      "cell_type": "code",
      "outputs": []
    },
    {
      "metadata": {
        "_uuid": "9b83e971590de0d46fda8082c4149f23eda4fafc"
      },
      "source": [
        "## EDA\n",
        "\n",
        "Let's take a look at car model counts by region."
      ],
      "cell_type": "markdown",
      "outputs": [],
      "execution_count": null
    },
    {
      "execution_count": null,
      "metadata": {
        "scrolled": true,
        "_uuid": "ee52aa4a04db320fc359194fd0994ae603a212ce"
      },
      "source": [
        "plt.hist(data['origin'])\n",
        "plt.xlabel('Region')\n",
        "plt.ylabel('Count')\n",
        "plt.title(u'Counts of models by region')\n",
        "plt.xticks(range(1,4))\n",
        "plt.show()"
      ],
      "cell_type": "code",
      "outputs": []
    },
    {
      "metadata": {
        "_uuid": "194266b00fee4523b57f147d6e92c76e1d0568fe"
      },
      "source": [
        "There is a disproportionate number of cars from North America, although it stands to reason as the study was originally conducted in North America, along with more car manufacturers in North America.\n",
        "\n",
        "Given the number of car models, producing a histogram of car models will not be very beneficial. "
      ],
      "cell_type": "markdown",
      "outputs": [],
      "execution_count": null
    },
    {
      "execution_count": null,
      "metadata": {
        "scrolled": false,
        "_uuid": "8dc13e8b11d5058594fb10443f9be507405a898b"
      },
      "source": [
        "# Maybe cars by year next?\n",
        "plt.hist(data['model year'])\n",
        "plt.xlabel('Year')\n",
        "plt.ylabel('Count')\n",
        "plt.title(u'Counts of models by year')\n",
        "plt.show()"
      ],
      "cell_type": "code",
      "outputs": []
    },
    {
      "metadata": {
        "_uuid": "03a39f5d4851500becdde2fdd3aed91fea25c686"
      },
      "source": [
        "Here, we are observing the various other continuous variables provided in the dataframe."
      ],
      "cell_type": "markdown",
      "outputs": [],
      "execution_count": null
    },
    {
      "execution_count": null,
      "metadata": {
        "_uuid": "567763a23677d872a25f0a5a4b863958433db2d8"
      },
      "source": [
        "# Generate a feature list to iterate in a for loop\n",
        "feat_list = data.columns.tolist()\n",
        "# These columns are dropped from the feature list\n",
        "# Some are categorical, some cover a range of values that will be similar\n",
        "feat_list.remove('manufacturer')\n",
        "feat_list.remove('model')\n",
        "feat_list.remove('model year')\n",
        "feat_list.remove('origin')\n",
        "feat_list.remove('car name')\n",
        "print(feat_list)"
      ],
      "cell_type": "code",
      "outputs": []
    },
    {
      "execution_count": null,
      "metadata": {
        "_uuid": "34b60c148f38beb5fbf3ffe81f29d32a5bfdfe52"
      },
      "source": [
        "# Run a for loop for histograms\n",
        "\n",
        "# # Split it into 3 dataframes\n",
        "# data_na = data[data['origin']==1]\n",
        "# data_eu = data[data['origin']==2]\n",
        "# data_asia = data[data['origin']==3]\n",
        "\n",
        "# Divide the dataframe into 3 traces by region\n",
        "# Plotly doesn't work, have to use Matplotlib\n",
        "for cols in feat_list:\n",
        "    print(cols)\n",
        "    x0 = data[data[\"origin\"] == 1][cols].values\n",
        "    x1 = data[data['origin']==2][cols].values\n",
        "    x2 = data[data['origin']==3][cols].values\n",
        "    \n",
        "    plt.hist(x0, alpha=0.5,label='NA')\n",
        "    plt.hist(x1, alpha=0.5,label='EU')\n",
        "    plt.hist(x2, alpha=0.5,label='AS')\n",
        "    plt.legend(loc='upper right')\n",
        "    \n",
        "    plt.show()"
      ],
      "cell_type": "code",
      "outputs": [
        {
          "output_type": "stream",
          "text": "North American manufacturers\n{'buick', 'chrysler', 'chevy', 'ford', 'plymouth', 'oldsmobile', 'pontiac', 'amc', 'chevroelt', 'hi', 'dodge', 'capri', 'chevrolet', 'mercury', 'cadillac'}\n\nEuropean manufacturers\n{'bmw', 'mercedes-benz', 'renault', 'opel', 'peugeot', 'vokswagen', 'volkswagen', 'saab', 'audi', 'volvo', 'vw', 'fiat', 'triumph', 'mercedes'}\n\nAsian\\Japanese manufacturers\n{'toyota', 'datsun', 'mazda', 'subaru', 'toyouta', 'nissan', 'honda', 'maxda'}\n",
          "name": "stdout"
        },
        {
          "output_type": "display_data",
          "transient": {},
          "data": {
            "text/plain": "<matplotlib.figure.Figure at 0x7f5ccf282cf8>",
            "image/png": "[encoded data removed]"
          },
          "metadata": {}
        }
      ]
    },
    {
      "metadata": {
        "collapsed": true,
        "_uuid": "31c8feebbb7fac3162c481be60e2287caae02fcb"
      },
      "source": [
        "There are some observable trends here. For mpg, North American cars typically are lower than European or Asian models. North America has a larger number of cars with more cylinders, as well as higher displacement. There is a larger range in horsepower, as well as weight. Acceleration, on the other hand, appears to be very similar."
      ],
      "cell_type": "markdown",
      "outputs": [],
      "execution_count": null
    },
    {
      "execution_count": null,
      "metadata": {
        "collapsed": true,
        "_uuid": "430b4c5a5e8cd212ce3816edd507a3a0c5b09e24"
      },
      "source": [],
      "cell_type": "code",
      "outputs": []
    }
  ],
  "nbformat": 4
}
