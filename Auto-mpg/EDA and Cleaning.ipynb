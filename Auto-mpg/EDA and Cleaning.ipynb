{
  "cells": [
    {
      "metadata": {
        "_cell_guid": "169b6d1e-ea05-4d6b-b5b4-161b2e7bdf00",
        "_uuid": "3a71d262cf9e3581c9080913337b7fd618c751d0",
        "collapsed": true,
        "trusted": true
      },
      "cell_type": "code",
      "source": "import pandas as pd\nimport numpy as np\nimport seaborn as sns\n\nimport matplotlib.pyplot as plt\n%matplotlib inline",
      "execution_count": 1,
      "outputs": []
    },
    {
      "metadata": {
        "_cell_guid": "55b2cb8d-e0c6-409e-975e-8cd69aeadfc1",
        "_uuid": "56c4d5f681e1b58c0f8cfcebdf9009d5c9ed4c58",
        "collapsed": true,
        "trusted": true
      },
      "cell_type": "code",
      "source": "data = pd.read_csv('../input/auto-mpg.csv')",
      "execution_count": 2,
      "outputs": []
    },
    {
      "metadata": {
        "_cell_guid": "9face2bf-d4e8-4b67-bda3-2c6a4d905ad7",
        "_uuid": "3bcd3ca074b031b980c81e866837d311933ea56d"
      },
      "cell_type": "markdown",
      "source": "## About the Data",
      "outputs": [],
      "execution_count": null
    },
    {
      "metadata": {
        "_cell_guid": "d4cb4b27-5f30-428f-9ea8-f04e15152d1c",
        "_uuid": "301b9c084833440a1a559eced4cbd4e74976ea12"
      },
      "cell_type": "markdown",
      "source": "CSV source: https://www.kaggle.com/uciml/autompg-dataset\n\nCan also be found on the UCI Machine Learning Repository\n\n**From UCI ML Repository**\n\nThis dataset was taken from the StatLib library which is maintained at Carnegie Mellon University. The dataset was used in the 1983 American Statistical Association Exposition.\n\nData Set Information:\n\nThis dataset is a slightly modified version of the dataset provided in the StatLib library. In line with the use by Ross Quinlan (1993) in predicting the attribute \"mpg\", 8 of the original instances were removed because they had unknown values for the \"mpg\" attribute. The original dataset is available in the file \"auto-mpg.data-original\". \n\n\"The data concerns city-cycle fuel consumption in miles per gallon, to be predicted in terms of 3 multivalued discrete and 5 continuous attributes.\" (Quinlan, 1993)",
      "outputs": [],
      "execution_count": null
    },
    {
      "metadata": {
        "_cell_guid": "65e94019-b0fb-4b28-9d5b-72b52b342123",
        "_uuid": "bc2ae6c44d7818731de2772ed7b11d6b08d61710"
      },
      "cell_type": "markdown",
      "source": "## Data Dictionary\n|Attribute|Description|\n|-|-|\n|mpg|Miles per gallon. Continuous variable|\n|cylinders|Number of cylinders in the engine|\n|displacement|Total swept volume displacement of engine through 1 cycle (Commonly used in cm<sup>3</sup>)|\n|horsepower|Unit of power. Often abbreviated as hp. 1 hp is equivalent to around 750 watts|\n|weight|Weight of the car, in pounds|\n|acceleration|Assumed to be the time it takes for the vehicle to accelerate from 0 to 60 miles per hour (mph)|\n|model year|Year of manufacture|\n|origin|1 = North America. 2 = Europe, 3 = Japan/Asia|\n|car name|Make and model of the car|",
      "outputs": [],
      "execution_count": null
    },
    {
      "metadata": {
        "_cell_guid": "c3e3da26-ff11-4661-824e-0e84ce07e22d",
        "_uuid": "14c6ced29ee4be312b95c02785dbcd2661054cc0"
      },
      "cell_type": "markdown",
      "source": "### Descriptive Stats & Sanity Check",
      "outputs": [],
      "execution_count": null
    },
    {
      "metadata": {
        "_cell_guid": "facb3886-2f79-4d70-ad5e-e27a52568629",
        "_uuid": "2cf150e030fa8292712955c7c4a756132685e332",
        "trusted": true
      },
      "cell_type": "code",
      "source": "data.head()",
      "execution_count": 3,
      "outputs": [
        {
          "data": {
            "text/html": "<div>\n<style>\n    .dataframe thead tr:only-child th {\n        text-align: right;\n    }\n\n    .dataframe thead th {\n        text-align: left;\n    }\n\n    .dataframe tbody tr th {\n        vertical-align: top;\n    }\n</style>\n<table border=\"1\" class=\"dataframe\">\n  <thead>\n    <tr style=\"text-align: right;\">\n      <th></th>\n      <th>mpg</th>\n      <th>cylinders</th>\n      <th>displacement</th>\n      <th>horsepower</th>\n      <th>weight</th>\n      <th>acceleration</th>\n      <th>model year</th>\n      <th>origin</th>\n      <th>car name</th>\n    </tr>\n  </thead>\n  <tbody>\n    <tr>\n      <th>0</th>\n      <td>18.0</td>\n      <td>8</td>\n      <td>307.0</td>\n      <td>130</td>\n      <td>3504</td>\n      <td>12.0</td>\n      <td>70</td>\n      <td>1</td>\n      <td>chevrolet chevelle malibu</td>\n    </tr>\n    <tr>\n      <th>1</th>\n      <td>15.0</td>\n      <td>8</td>\n      <td>350.0</td>\n      <td>165</td>\n      <td>3693</td>\n      <td>11.5</td>\n      <td>70</td>\n      <td>1</td>\n      <td>buick skylark 320</td>\n    </tr>\n    <tr>\n      <th>2</th>\n      <td>18.0</td>\n      <td>8</td>\n      <td>318.0</td>\n      <td>150</td>\n      <td>3436</td>\n      <td>11.0</td>\n      <td>70</td>\n      <td>1</td>\n      <td>plymouth satellite</td>\n    </tr>\n    <tr>\n      <th>3</th>\n      <td>16.0</td>\n      <td>8</td>\n      <td>304.0</td>\n      <td>150</td>\n      <td>3433</td>\n      <td>12.0</td>\n      <td>70</td>\n      <td>1</td>\n      <td>amc rebel sst</td>\n    </tr>\n    <tr>\n      <th>4</th>\n      <td>17.0</td>\n      <td>8</td>\n      <td>302.0</td>\n      <td>140</td>\n      <td>3449</td>\n      <td>10.5</td>\n      <td>70</td>\n      <td>1</td>\n      <td>ford torino</td>\n    </tr>\n  </tbody>\n</table>\n</div>",
            "text/plain": "    mpg  cylinders  displacement horsepower  weight  acceleration  model year  \\\n0  18.0          8         307.0        130    3504          12.0          70   \n1  15.0          8         350.0        165    3693          11.5          70   \n2  18.0          8         318.0        150    3436          11.0          70   \n3  16.0          8         304.0        150    3433          12.0          70   \n4  17.0          8         302.0        140    3449          10.5          70   \n\n   origin                   car name  \n0       1  chevrolet chevelle malibu  \n1       1          buick skylark 320  \n2       1         plymouth satellite  \n3       1              amc rebel sst  \n4       1                ford torino  "
          },
          "execution_count": 3,
          "metadata": {},
          "output_type": "execute_result"
        }
      ]
    },
    {
      "metadata": {
        "_cell_guid": "da8b7a35-4f8c-492b-98c8-c2484dbedae9",
        "_uuid": "628dc27b487608a5688ac0f8fd2a4371633f68df",
        "trusted": true
      },
      "cell_type": "code",
      "source": "data.shape",
      "execution_count": 4,
      "outputs": [
        {
          "data": {
            "text/plain": "(398, 9)"
          },
          "execution_count": 4,
          "metadata": {},
          "output_type": "execute_result"
        }
      ]
    },
    {
      "metadata": {
        "_cell_guid": "dbbee572-3c6c-4e99-b60a-b05b07b1af66",
        "_uuid": "3f8f84b3e46a53de338ccb622958bc8c7d86c902",
        "scrolled": true,
        "trusted": true
      },
      "cell_type": "code",
      "source": "data.info()",
      "execution_count": 5,
      "outputs": [
        {
          "name": "stdout",
          "output_type": "stream",
          "text": "<class 'pandas.core.frame.DataFrame'>\nRangeIndex: 398 entries, 0 to 397\nData columns (total 9 columns):\nmpg             398 non-null float64\ncylinders       398 non-null int64\ndisplacement    398 non-null float64\nhorsepower      398 non-null object\nweight          398 non-null int64\nacceleration    398 non-null float64\nmodel year      398 non-null int64\norigin          398 non-null int64\ncar name        398 non-null object\ndtypes: float64(3), int64(4), object(2)\nmemory usage: 28.1+ KB\n"
        }
      ]
    },
    {
      "metadata": {
        "_cell_guid": "eecd99e1-d150-4be4-9267-6c2320854fb8",
        "_uuid": "7feeb38c940f4bf177b824a62d090bb1e1aff2db"
      },
      "cell_type": "markdown",
      "source": "Horsepower is regarded as an object. Will check later",
      "outputs": [],
      "execution_count": null
    },
    {
      "metadata": {
        "_cell_guid": "f22f946e-c461-4fa6-b2bf-475fb681b76e",
        "_uuid": "9b0d16fb346de54dd2d56bf20032c688c3b89318",
        "trusted": true
      },
      "cell_type": "code",
      "source": "data.describe()",
      "execution_count": 6,
      "outputs": [
        {
          "data": {
            "text/html": "<div>\n<style>\n    .dataframe thead tr:only-child th {\n        text-align: right;\n    }\n\n    .dataframe thead th {\n        text-align: left;\n    }\n\n    .dataframe tbody tr th {\n        vertical-align: top;\n    }\n</style>\n<table border=\"1\" class=\"dataframe\">\n  <thead>\n    <tr style=\"text-align: right;\">\n      <th></th>\n      <th>mpg</th>\n      <th>cylinders</th>\n      <th>displacement</th>\n      <th>weight</th>\n      <th>acceleration</th>\n      <th>model year</th>\n      <th>origin</th>\n    </tr>\n  </thead>\n  <tbody>\n    <tr>\n      <th>count</th>\n      <td>398.000000</td>\n      <td>398.000000</td>\n      <td>398.000000</td>\n      <td>398.000000</td>\n      <td>398.000000</td>\n      <td>398.000000</td>\n      <td>398.000000</td>\n    </tr>\n    <tr>\n      <th>mean</th>\n      <td>23.514573</td>\n      <td>5.454774</td>\n      <td>193.425879</td>\n      <td>2970.424623</td>\n      <td>15.568090</td>\n      <td>76.010050</td>\n      <td>1.572864</td>\n    </tr>\n    <tr>\n      <th>std</th>\n      <td>7.815984</td>\n      <td>1.701004</td>\n      <td>104.269838</td>\n      <td>846.841774</td>\n      <td>2.757689</td>\n      <td>3.697627</td>\n      <td>0.802055</td>\n    </tr>\n    <tr>\n      <th>min</th>\n      <td>9.000000</td>\n      <td>3.000000</td>\n      <td>68.000000</td>\n      <td>1613.000000</td>\n      <td>8.000000</td>\n      <td>70.000000</td>\n      <td>1.000000</td>\n    </tr>\n    <tr>\n      <th>25%</th>\n      <td>17.500000</td>\n      <td>4.000000</td>\n      <td>104.250000</td>\n      <td>2223.750000</td>\n      <td>13.825000</td>\n      <td>73.000000</td>\n      <td>1.000000</td>\n    </tr>\n    <tr>\n      <th>50%</th>\n      <td>23.000000</td>\n      <td>4.000000</td>\n      <td>148.500000</td>\n      <td>2803.500000</td>\n      <td>15.500000</td>\n      <td>76.000000</td>\n      <td>1.000000</td>\n    </tr>\n    <tr>\n      <th>75%</th>\n      <td>29.000000</td>\n      <td>8.000000</td>\n      <td>262.000000</td>\n      <td>3608.000000</td>\n      <td>17.175000</td>\n      <td>79.000000</td>\n      <td>2.000000</td>\n    </tr>\n    <tr>\n      <th>max</th>\n      <td>46.600000</td>\n      <td>8.000000</td>\n      <td>455.000000</td>\n      <td>5140.000000</td>\n      <td>24.800000</td>\n      <td>82.000000</td>\n      <td>3.000000</td>\n    </tr>\n  </tbody>\n</table>\n</div>",
            "text/plain": "              mpg   cylinders  displacement       weight  acceleration  \\\ncount  398.000000  398.000000    398.000000   398.000000    398.000000   \nmean    23.514573    5.454774    193.425879  2970.424623     15.568090   \nstd      7.815984    1.701004    104.269838   846.841774      2.757689   \nmin      9.000000    3.000000     68.000000  1613.000000      8.000000   \n25%     17.500000    4.000000    104.250000  2223.750000     13.825000   \n50%     23.000000    4.000000    148.500000  2803.500000     15.500000   \n75%     29.000000    8.000000    262.000000  3608.000000     17.175000   \nmax     46.600000    8.000000    455.000000  5140.000000     24.800000   \n\n       model year      origin  \ncount  398.000000  398.000000  \nmean    76.010050    1.572864  \nstd      3.697627    0.802055  \nmin     70.000000    1.000000  \n25%     73.000000    1.000000  \n50%     76.000000    1.000000  \n75%     79.000000    2.000000  \nmax     82.000000    3.000000  "
          },
          "execution_count": 6,
          "metadata": {},
          "output_type": "execute_result"
        }
      ]
    },
    {
      "metadata": {
        "_cell_guid": "7a9962de-7ab6-4340-a22b-52a5779aef1e",
        "_uuid": "004d030fa1735ffa8599fdd495e7e49174f4446c",
        "scrolled": true,
        "trusted": true
      },
      "cell_type": "code",
      "source": "# Check for any null values\ndata.isnull().any()",
      "execution_count": 7,
      "outputs": [
        {
          "data": {
            "text/plain": "mpg             False\ncylinders       False\ndisplacement    False\nhorsepower      False\nweight          False\nacceleration    False\nmodel year      False\norigin          False\ncar name        False\ndtype: bool"
          },
          "execution_count": 7,
          "metadata": {},
          "output_type": "execute_result"
        }
      ]
    },
    {
      "metadata": {
        "_cell_guid": "78e7c0dc-f4e8-4952-8d3f-4aa0c1c2e679",
        "_uuid": "c67dff99b69c5fbfef78d5d063c13cc025400fc3"
      },
      "cell_type": "markdown",
      "source": "## Data Transformation and Cleaning",
      "outputs": [],
      "execution_count": null
    },
    {
      "metadata": {
        "_cell_guid": "dfea8102-87b0-435e-9466-71ecfabaf3e4",
        "_uuid": "eb0dbffabcce2e17b915a4413214a38b4e02058c",
        "collapsed": true,
        "trusted": true
      },
      "cell_type": "code",
      "source": "# Splits car name in to manufacturer and model\ndata['manufacturer'],data['model']=data['car name'].str.split(' ',1).str",
      "execution_count": 8,
      "outputs": []
    },
    {
      "metadata": {
        "_cell_guid": "763e426d-3f38-425e-9038-9f3e805bed3c",
        "_uuid": "ea24e22371ca267d1dbabd4a7b25d686acf64f98",
        "collapsed": true,
        "trusted": true
      },
      "cell_type": "code",
      "source": "# Change it so that the model year corresponds with the appropriate year in the 1900\ndata['model year']=1900+data['model year']",
      "execution_count": 9,
      "outputs": []
    },
    {
      "metadata": {
        "_cell_guid": "92e7cf30-b1bd-48f0-9a67-73a31d1527d9",
        "_uuid": "b98f9f2a381d09c4ccfdcd60a37fe53bc152f74d",
        "scrolled": true,
        "trusted": true
      },
      "cell_type": "code",
      "source": "# Validation of above transformations\ndata.sample(5)",
      "execution_count": 10,
      "outputs": [
        {
          "data": {
            "text/html": "<div>\n<style>\n    .dataframe thead tr:only-child th {\n        text-align: right;\n    }\n\n    .dataframe thead th {\n        text-align: left;\n    }\n\n    .dataframe tbody tr th {\n        vertical-align: top;\n    }\n</style>\n<table border=\"1\" class=\"dataframe\">\n  <thead>\n    <tr style=\"text-align: right;\">\n      <th></th>\n      <th>mpg</th>\n      <th>cylinders</th>\n      <th>displacement</th>\n      <th>horsepower</th>\n      <th>weight</th>\n      <th>acceleration</th>\n      <th>model year</th>\n      <th>origin</th>\n      <th>car name</th>\n      <th>manufacturer</th>\n      <th>model</th>\n    </tr>\n  </thead>\n  <tbody>\n    <tr>\n      <th>304</th>\n      <td>37.3</td>\n      <td>4</td>\n      <td>91.0</td>\n      <td>69</td>\n      <td>2130</td>\n      <td>14.7</td>\n      <td>1979</td>\n      <td>2</td>\n      <td>fiat strada custom</td>\n      <td>fiat</td>\n      <td>strada custom</td>\n    </tr>\n    <tr>\n      <th>39</th>\n      <td>14.0</td>\n      <td>8</td>\n      <td>400.0</td>\n      <td>175</td>\n      <td>4464</td>\n      <td>11.5</td>\n      <td>1971</td>\n      <td>1</td>\n      <td>pontiac catalina brougham</td>\n      <td>pontiac</td>\n      <td>catalina brougham</td>\n    </tr>\n    <tr>\n      <th>268</th>\n      <td>27.2</td>\n      <td>4</td>\n      <td>119.0</td>\n      <td>97</td>\n      <td>2300</td>\n      <td>14.7</td>\n      <td>1978</td>\n      <td>3</td>\n      <td>datsun 510</td>\n      <td>datsun</td>\n      <td>510</td>\n    </tr>\n    <tr>\n      <th>108</th>\n      <td>20.0</td>\n      <td>4</td>\n      <td>97.0</td>\n      <td>88</td>\n      <td>2279</td>\n      <td>19.0</td>\n      <td>1973</td>\n      <td>3</td>\n      <td>toyota carina</td>\n      <td>toyota</td>\n      <td>carina</td>\n    </tr>\n    <tr>\n      <th>362</th>\n      <td>24.2</td>\n      <td>6</td>\n      <td>146.0</td>\n      <td>120</td>\n      <td>2930</td>\n      <td>13.8</td>\n      <td>1981</td>\n      <td>3</td>\n      <td>datsun 810 maxima</td>\n      <td>datsun</td>\n      <td>810 maxima</td>\n    </tr>\n  </tbody>\n</table>\n</div>",
            "text/plain": "      mpg  cylinders  displacement horsepower  weight  acceleration  \\\n304  37.3          4          91.0         69    2130          14.7   \n39   14.0          8         400.0        175    4464          11.5   \n268  27.2          4         119.0         97    2300          14.7   \n108  20.0          4          97.0         88    2279          19.0   \n362  24.2          6         146.0        120    2930          13.8   \n\n     model year  origin                   car name manufacturer  \\\n304        1979       2         fiat strada custom         fiat   \n39         1971       1  pontiac catalina brougham      pontiac   \n268        1978       3                 datsun 510       datsun   \n108        1973       3              toyota carina       toyota   \n362        1981       3          datsun 810 maxima       datsun   \n\n                 model  \n304      strada custom  \n39   catalina brougham  \n268                510  \n108             carina  \n362         810 maxima  "
          },
          "execution_count": 10,
          "metadata": {},
          "output_type": "execute_result"
        }
      ]
    },
    {
      "metadata": {
        "_cell_guid": "289cb508-7342-48e2-b0d5-9ce5d6c66e63",
        "_uuid": "d07a0b1433bfdcafb970b1e76b7fdaaf87a9a028",
        "trusted": true
      },
      "cell_type": "code",
      "source": "# Check for NaNs after the transformation\ndata.isnull().any()",
      "execution_count": 11,
      "outputs": [
        {
          "data": {
            "text/plain": "mpg             False\ncylinders       False\ndisplacement    False\nhorsepower      False\nweight          False\nacceleration    False\nmodel year      False\norigin          False\ncar name        False\nmanufacturer    False\nmodel            True\ndtype: bool"
          },
          "execution_count": 11,
          "metadata": {},
          "output_type": "execute_result"
        }
      ]
    },
    {
      "metadata": {
        "_cell_guid": "48ac22b2-f3f7-4955-a6a0-ab904f59a4a6",
        "_uuid": "17a41b47911b31eda2e1267dba7d1016f306697b",
        "trusted": true
      },
      "cell_type": "code",
      "source": "# Hunting the null value\ndata_null = data[data.isnull().any(axis=1)]\nprint(data_null)",
      "execution_count": 12,
      "outputs": [
        {
          "name": "stdout",
          "output_type": "stream",
          "text": "      mpg  cylinders  displacement horsepower  weight  acceleration  \\\n150  26.0          4         108.0         93    2391          15.5   \n346  32.3          4          97.0         67    2065          17.8   \n\n     model year  origin car name manufacturer model  \n150        1974       3   subaru       subaru   NaN  \n346        1981       3   subaru       subaru   NaN  \n"
        }
      ]
    },
    {
      "metadata": {
        "_cell_guid": "aae41a63-041b-476d-8a7e-d3daea427434",
        "_uuid": "3762b6643bb5f685618b7c1ee4c399fb2b069ac2"
      },
      "cell_type": "markdown",
      "source": "2 null values occurred after the slicing of the car name - both by Subaru albeit in other years.\n\nThe car models does not have any major effect upon any future work, so they'll be left in. After all, mpg, cylinders, displacement etc are more important to future ML algorithms than the model.",
      "outputs": [],
      "execution_count": null
    },
    {
      "metadata": {
        "_cell_guid": "e5b7db4d-bf8f-487f-aa42-42fb6de8489e",
        "_uuid": "14bc2bc0340b7f630fae36e1293d171ada63dff3",
        "trusted": true
      },
      "cell_type": "code",
      "source": "# Look at unique manufacturer names\norig_1_manufacturer = set() # Blank sets\norig_2_manufacturer = set() # Blank sets\norig_3_manufacturer = set() # Blank sets\n\nfor row in data.loc[data.origin == 1].manufacturer:\n    orig_1_manufacturer.add(row)\n    \nfor row in data.loc[data.origin == 2].manufacturer:\n    orig_2_manufacturer.add(row)\n    \nfor row in data.loc[data.origin == 3].manufacturer:\n    orig_3_manufacturer.add(row)\n\nprint(\"North American manufacturers\")\nprint(orig_1_manufacturer)\nprint(\"\\nEuropean manufacturers\")\nprint(orig_2_manufacturer)\nprint(\"\\nAsian\\\\Japanese manufacturers\")\nprint(orig_3_manufacturer)",
      "execution_count": 13,
      "outputs": [
        {
          "name": "stdout",
          "output_type": "stream",
          "text": "North American manufacturers\n{'buick', 'chrysler', 'chevy', 'ford', 'plymouth', 'oldsmobile', 'pontiac', 'amc', 'chevroelt', 'hi', 'dodge', 'capri', 'chevrolet', 'mercury', 'cadillac'}\n\nEuropean manufacturers\n{'bmw', 'mercedes-benz', 'renault', 'opel', 'peugeot', 'vokswagen', 'volkswagen', 'saab', 'audi', 'volvo', 'vw', 'fiat', 'triumph', 'mercedes'}\n\nAsian\\Japanese manufacturers\n{'toyota', 'datsun', 'mazda', 'subaru', 'toyouta', 'nissan', 'honda', 'maxda'}\n"
        }
      ]
    },
    {
      "metadata": {
        "_cell_guid": "bed37e61-1154-48e5-bd8c-7d89a4bd1703",
        "_uuid": "a441acbc7824321cb332301efa3af9c0c3e33997"
      },
      "cell_type": "markdown",
      "source": "For Origin == 1, we see a spelling error, where 'chevrolet' was entered as 'chevroelt'. There also is this 'hi' brand, which is new.\n\nFor Origin 2, 'vw' pops out. As VW is the standard abbreviation for Volkswagen, it stands to reason that it was incorrectly labeled. Another incorrect spelling of vokswagen can also be seen.\n\nFor Origin 3, mazda was incorrectly entered as maxda. Toyouta should be toyota.\nIn summary, three spelling errors to take care of.",
      "outputs": [],
      "execution_count": null
    },
    {
      "metadata": {
        "_cell_guid": "8845e042-4e97-4e92-bb78-d523625c2249",
        "_uuid": "fdedadb9d3e00c1b4b69a29675fa9ca0258181b0",
        "collapsed": true,
        "trusted": true
      },
      "cell_type": "code",
      "source": "# Create a map of incorrect spellings\nincorrect_to_correct = {'maxda':'mazda','vw':'volkswagen','chevroelt':'chevrolet', 'toyouta':'toyota','vokswagen':\n                       'volkswagen'}\n\n# Replace the incorrect values with the map\ndata.replace({'manufacturer':incorrect_to_correct},inplace=True)",
      "execution_count": 14,
      "outputs": []
    },
    {
      "metadata": {
        "_cell_guid": "e62c0f6c-e31d-48b0-8c08-fab7ac993ada",
        "_uuid": "979a505e55ce763cfa3501970d9af267b83e9c52",
        "trusted": true
      },
      "cell_type": "code",
      "source": "# Let's double check on the incorrect spellings\nprint(data[data['manufacturer'] == 'maxda'])\nprint(data[data['manufacturer'] == 'vw'])\nprint(data[data['manufacturer'] == 'chevroelt'])\nprint(data[data['manufacturer'] == 'toyouta'])\nprint(data[data['manufacturer'] == 'vokswagen'])",
      "execution_count": 15,
      "outputs": [
        {
          "name": "stdout",
          "output_type": "stream",
          "text": "Empty DataFrame\nColumns: [mpg, cylinders, displacement, horsepower, weight, acceleration, model year, origin, car name, manufacturer, model]\nIndex: []\nEmpty DataFrame\nColumns: [mpg, cylinders, displacement, horsepower, weight, acceleration, model year, origin, car name, manufacturer, model]\nIndex: []\nEmpty DataFrame\nColumns: [mpg, cylinders, displacement, horsepower, weight, acceleration, model year, origin, car name, manufacturer, model]\nIndex: []\nEmpty DataFrame\nColumns: [mpg, cylinders, displacement, horsepower, weight, acceleration, model year, origin, car name, manufacturer, model]\nIndex: []\nEmpty DataFrame\nColumns: [mpg, cylinders, displacement, horsepower, weight, acceleration, model year, origin, car name, manufacturer, model]\nIndex: []\n"
        }
      ]
    },
    {
      "metadata": {
        "_cell_guid": "7d726316-8f01-4b2f-b7b5-cc2842316b50",
        "_uuid": "7dba28d78a632d2bb560527456cb5f78079839f9"
      },
      "cell_type": "markdown",
      "source": "Empty dataframes means that the spellings are now correct.\n\nOne other interesting note is the use of Chevy and Chevrolet as car manufacturers. Historically, Chevrolet cars have also been referred to as Chevy colloquially. As such, this will be corrected in order for future work.",
      "outputs": [],
      "execution_count": null
    },
    {
      "metadata": {
        "_cell_guid": "39a61d66-03a4-4b2e-a383-aa104ba83c47",
        "_uuid": "5aeb7eadd1b14685d2c680e7c966382a59e5d113",
        "collapsed": true,
        "trusted": true
      },
      "cell_type": "code",
      "source": "incorrect_to_correct = {'chevy':'chevrolet'}\ndata.replace({'manufacturer':incorrect_to_correct},inplace=True)",
      "execution_count": 16,
      "outputs": []
    },
    {
      "metadata": {
        "_cell_guid": "b983041e-213b-4422-8220-1657c0371a4b",
        "_uuid": "8193e2df351b15fcc84775cb5e4804b67ea4071e",
        "scrolled": false,
        "trusted": true
      },
      "cell_type": "code",
      "source": "print(data[data['manufacturer'] == 'chevy'])",
      "execution_count": 17,
      "outputs": [
        {
          "name": "stdout",
          "output_type": "stream",
          "text": "Empty DataFrame\nColumns: [mpg, cylinders, displacement, horsepower, weight, acceleration, model year, origin, car name, manufacturer, model]\nIndex: []\n"
        }
      ]
    },
    {
      "metadata": {
        "_cell_guid": "d55aabfd-0610-4a59-a254-533433bec307",
        "_uuid": "29522f9112e3c04682bed292123fbc2debbe6295",
        "scrolled": true,
        "trusted": true
      },
      "cell_type": "code",
      "source": "# Let's go a little deeper than make and into models\n# Count the entries by manufacturer\norig_1_model = set() # Blank sets\norig_2_model = set() # Blank sets\norig_3_model = set() # Blank sets\n\nfor row in data.loc[data.origin == 1].model:\n    orig_1_model.add(row)\n    \nfor row in data.loc[data.origin == 2].model:\n    orig_2_model.add(row)\n    \nfor row in data.loc[data.origin == 3].model:\n    orig_3_model.add(row)\n\nprint(\"North American modelss\")\nprint(orig_1_model)\nprint(\"\\nEuropean modelss\")\nprint(orig_2_model)\nprint(\"\\nAsian\\\\Japanese models\")\nprint(orig_3_model)",
      "execution_count": 18,
      "outputs": [
        {
          "name": "stdout",
          "output_type": "stream",
          "text": "North American modelss\n{'catalina brougham', 'sapporo', 'lebaron medallion', 'pacer d/l', 'chevelle malibu classic', 'duster', 'vista cruiser', 'monte carlo s', 'astro', 'ambassador sst', 'volare custom', 'ltd', 'safari (sw)', 'reliant', 'impala', 'electra 225 custom', 'ventura sj', 'colt', 'fury', 'cutlass ls', 'colt hardtop', 'monaco brougham', 'concord dl 6', 'rampage', 'delta 88 royale', 'escort 4w', 'regal sport coupe (turbo)', 'challenger se', 'colt hatchback custom', 'skylark limited', 'zephyr', 'd200', 'phoenix lj', 'country', 'vega (sw)', 'concord', 'granada ghia', 'sunbird coupe', 'f108', 'new yorker brougham', 'century 350', 'nova custom', 'mustang ii', 'j2000 se hatchback', 'valiant custom', 'fairmont futura', 'satellite custom', 'monza 2+2', 'colt (sw)', 'fairmont (auto)', 'citation', 'granada l', 'charger 2.2', 'cutlass supreme', 'malibu classic (sw)', 's-10', 'vega 2300', 'aspen 6', 'pinto runabout', 'marquis', 'pinto (sw)', 'horizon tc3', 'rebel sst', 'century', 'cutlass ciera (diesel)', 'spirit dl', 'c10', 'mustang ii 2+2', 'horizon 4', 'magnum xe', 'horizon miser', 'malibu', 'champ', 'skylark', 'eldorado', 'zephyr 6', 'valiant', 'st. regis', 'gran torino', 'country squire (sw)', 'volare', 'cutlass salon brougham', 'aspen se', 'lebaron salon', 'estate wagon (sw)', 'skylark 320', 'grand prix', 'chevelle malibu', 'skyhawk', 'horizon', 'marquis brougham', 'ambassador brougham', 'hornet sportabout (sw)', 'woody', 'ltd landau', 'diplomat', 'granada', 'mustang', 'torino 500', 'pinto', 'grand prix lj', 'gran torino (sw)', 'monaco (sw)', 'monte carlo', 'dart custom', 'arrow gs', 'century limited', 'catalina', 'thunderbird', 'colt m/m', 'camaro', 'firebird', '1200d', 'cricket', 'seville', 'aspen', 'ii', 'omega brougham', 'lesabre custom', 'coronet custom', 'fury gran sedan', 'fairmont (man)', 'capri 2000', 'concord d/l', 'capri v6', 'd100', 'monarch', 'grand marquis', 'nova', 'starfire sx', 'gremlin', 'fury iii', 'mustang gl', 'fairmont', 'concord dl', 'vega', 'matador (sw)', 'custom suburb', 'futura', 'coronet brougham', 'grand fury', 'century special', 'satellite sebring', 'pacer', 'cougar brougham', 'lemans v6', 'cavalier', 'omega', 'chevelle concours (sw)', 'satellite', 'hornet', 'fairmont 4', 'ambassador dpl', 'lebaron town @ country (sw)', 'volare premier v8', 'concours', 'caprice classic', 'maverick', 'century luxus (sw)', 'bel air', 'monarch ghia', 'omni', 'phoenix', 'aries wagon (sw)', 'mustang cobra', 'torino', 'aries se', 'opel isuzu deluxe', 'matador', 'chevette', 'f250', 'lynx l', 'c20', 'galaxie 500', 'escort 2h', 'ranger', 'cavalier wagon', 'cavalier 2-door', 'cordoba', 'newport royal', \"'cuda 340\", 'fiesta', 'granada gl', 'monte carlo landau', 'satellite custom (sw)', 'coronet custom (sw)'}\n\nEuropean modelss\n{'99e', 'benz 300d', '505s turbo diesel', 'rabbit', '304', 'model 111', 'rabbit custom diesel', '504', '100 ls', '2002', '99gle', '128', 'rabbit c (diesel)', '280s', 'dasher', 'strada custom', 'pickup', 'diesel', '411 (sw)', 'manta', 'lecar deluxe', 'rabbit l', '100ls', '245', '124 tc', '604sl', 'super beetle', '320i', 'scirocco', 'dasher (diesel)', '131', '5000s (diesel)', 'fox', 'tr7 coupe', 'jetta', 'type 3', '5 gtl', '124 sport coupe', '5000', '4000', '145e (sw)', '244dl', '144ea', '1900', '240d', '1131 deluxe sedan', '264gl', '18i', '99le', '504 (sw)', '12tl', 'rabbit custom', '124b', '12 (sw)', 'x1.9'}\n\nAsian\\Japanese models\n{nan, 'b-210', 'accord cvcc', 'cressida', 'accord', 'rx2 coupe', '280-zx', 'corona mark ii', 'celica gt liftback', 'glc custom l', '610', 'rx-4', '626', 'civic 1300', 'tercel', 'b210 gx', 'f-10 hatchback', 'corona', 'b210', 'corolla liftback', '310', '200sx', 'corona liftback', '810', 'pl510', '1200', 'corolla tercel', '510 hatchback', 'corona hardtop', 'civic (auto)', 'corona mark ii (sw)', 'rx3', 'corolla 1200', '510 (sw)', 'glc deluxe', '200-sx', 'rx-7 gs', 'prelude', '810 maxima', '210', '710', 'glc custom', '510', 'stanza xe', 'celica gt', 'corolla', 'civic cvcc', 'corolla 1600 (sw)', 'civic 1500 gl', 'civic', 'glc 4', '310 gx', 'dl', 'glc', 'starlet', 'accord lx', 'carina', 'mark ii', '210 mpg'}\n"
        }
      ]
    },
    {
      "metadata": {
        "_cell_guid": "06566939-ccd9-42da-9d24-6aa2713c5229",
        "_uuid": "354bbc11aa9e776dd2c1efc5ed450e0642d74386",
        "scrolled": false,
        "trusted": true
      },
      "cell_type": "code",
      "source": "# Actual numbers of model by region\nprint(\"North American manufacturers\")\nprint(len(orig_1_model))\nprint(\"\\nEuropean manufacturers\")\nprint(len(orig_2_model))\nprint(\"\\nAsian\\\\Japanese manufacturers\")\nprint(len(orig_3_model))",
      "execution_count": 19,
      "outputs": [
        {
          "name": "stdout",
          "output_type": "stream",
          "text": "North American manufacturers\n186\n\nEuropean manufacturers\n55\n\nAsian\\Japanese manufacturers\n59\n"
        }
      ]
    },
    {
      "metadata": {
        "_cell_guid": "39aae3fb-0125-43e5-ace7-6e81ca931624",
        "_uuid": "ef2d2d95d870d485c73d0641ba6bfc5d2f2849da"
      },
      "cell_type": "markdown",
      "source": "Considering that the dataframe contains more North American manufacturers than other regions, it stands to reason that there will be more North American models. This can be observed in the next section, which is Exploratory Data Analysis.",
      "outputs": [],
      "execution_count": null
    },
    {
      "metadata": {
        "_cell_guid": "a6cf05bf-61ae-443c-ba8d-1569105cfe30",
        "_uuid": "1162cb8517548c1fcf5e3fdca008485f90635f14",
        "scrolled": true,
        "trusted": true
      },
      "cell_type": "code",
      "source": "# Here we can see that horsepower is regarded as an object when it should be an integer, or float.\ndata.info()",
      "execution_count": 20,
      "outputs": [
        {
          "name": "stdout",
          "output_type": "stream",
          "text": "<class 'pandas.core.frame.DataFrame'>\nRangeIndex: 398 entries, 0 to 397\nData columns (total 11 columns):\nmpg             398 non-null float64\ncylinders       398 non-null int64\ndisplacement    398 non-null float64\nhorsepower      398 non-null object\nweight          398 non-null int64\nacceleration    398 non-null float64\nmodel year      398 non-null int64\norigin          398 non-null int64\ncar name        398 non-null object\nmanufacturer    398 non-null object\nmodel           396 non-null object\ndtypes: float64(3), int64(4), object(4)\nmemory usage: 34.3+ KB\n"
        }
      ]
    },
    {
      "metadata": {
        "_cell_guid": "454fb849-407f-44e0-b3d9-ed1ad69dcb61",
        "_uuid": "4426277202c32bd795a43588210573a88dc7f0e8",
        "trusted": true
      },
      "cell_type": "code",
      "source": "# All horsepower values should be floats or integers\n\n# Find all non-numerical values in horsepower\ndata[data['horsepower'].str.contains(u'\\D')]",
      "execution_count": 21,
      "outputs": [
        {
          "data": {
            "text/html": "<div>\n<style>\n    .dataframe thead tr:only-child th {\n        text-align: right;\n    }\n\n    .dataframe thead th {\n        text-align: left;\n    }\n\n    .dataframe tbody tr th {\n        vertical-align: top;\n    }\n</style>\n<table border=\"1\" class=\"dataframe\">\n  <thead>\n    <tr style=\"text-align: right;\">\n      <th></th>\n      <th>mpg</th>\n      <th>cylinders</th>\n      <th>displacement</th>\n      <th>horsepower</th>\n      <th>weight</th>\n      <th>acceleration</th>\n      <th>model year</th>\n      <th>origin</th>\n      <th>car name</th>\n      <th>manufacturer</th>\n      <th>model</th>\n    </tr>\n  </thead>\n  <tbody>\n    <tr>\n      <th>32</th>\n      <td>25.0</td>\n      <td>4</td>\n      <td>98.0</td>\n      <td>?</td>\n      <td>2046</td>\n      <td>19.0</td>\n      <td>1971</td>\n      <td>1</td>\n      <td>ford pinto</td>\n      <td>ford</td>\n      <td>pinto</td>\n    </tr>\n    <tr>\n      <th>126</th>\n      <td>21.0</td>\n      <td>6</td>\n      <td>200.0</td>\n      <td>?</td>\n      <td>2875</td>\n      <td>17.0</td>\n      <td>1974</td>\n      <td>1</td>\n      <td>ford maverick</td>\n      <td>ford</td>\n      <td>maverick</td>\n    </tr>\n    <tr>\n      <th>330</th>\n      <td>40.9</td>\n      <td>4</td>\n      <td>85.0</td>\n      <td>?</td>\n      <td>1835</td>\n      <td>17.3</td>\n      <td>1980</td>\n      <td>2</td>\n      <td>renault lecar deluxe</td>\n      <td>renault</td>\n      <td>lecar deluxe</td>\n    </tr>\n    <tr>\n      <th>336</th>\n      <td>23.6</td>\n      <td>4</td>\n      <td>140.0</td>\n      <td>?</td>\n      <td>2905</td>\n      <td>14.3</td>\n      <td>1980</td>\n      <td>1</td>\n      <td>ford mustang cobra</td>\n      <td>ford</td>\n      <td>mustang cobra</td>\n    </tr>\n    <tr>\n      <th>354</th>\n      <td>34.5</td>\n      <td>4</td>\n      <td>100.0</td>\n      <td>?</td>\n      <td>2320</td>\n      <td>15.8</td>\n      <td>1981</td>\n      <td>2</td>\n      <td>renault 18i</td>\n      <td>renault</td>\n      <td>18i</td>\n    </tr>\n    <tr>\n      <th>374</th>\n      <td>23.0</td>\n      <td>4</td>\n      <td>151.0</td>\n      <td>?</td>\n      <td>3035</td>\n      <td>20.5</td>\n      <td>1982</td>\n      <td>1</td>\n      <td>amc concord dl</td>\n      <td>amc</td>\n      <td>concord dl</td>\n    </tr>\n  </tbody>\n</table>\n</div>",
            "text/plain": "      mpg  cylinders  displacement horsepower  weight  acceleration  \\\n32   25.0          4          98.0          ?    2046          19.0   \n126  21.0          6         200.0          ?    2875          17.0   \n330  40.9          4          85.0          ?    1835          17.3   \n336  23.6          4         140.0          ?    2905          14.3   \n354  34.5          4         100.0          ?    2320          15.8   \n374  23.0          4         151.0          ?    3035          20.5   \n\n     model year  origin              car name manufacturer          model  \n32         1971       1            ford pinto         ford          pinto  \n126        1974       1         ford maverick         ford       maverick  \n330        1980       2  renault lecar deluxe      renault   lecar deluxe  \n336        1980       1    ford mustang cobra         ford  mustang cobra  \n354        1981       2           renault 18i      renault            18i  \n374        1982       1        amc concord dl          amc     concord dl  "
          },
          "execution_count": 21,
          "metadata": {},
          "output_type": "execute_result"
        }
      ]
    },
    {
      "metadata": {
        "_cell_guid": "9495c232-5cca-447b-b8b1-23e7ea1673c1",
        "_uuid": "5e644370181c166e1268ccbea17994c0cbf189e4"
      },
      "cell_type": "markdown",
      "source": "All values here are according to www.automobile-catalog.com\n\nAccording to the Automobile Catalog, each car had several versions/submodels available. As such, we attempted to match the listed charastics here (mpg, displacement, weight) with Automobile Catalog entries.\n\n|Row |Car Name|Horsepower (hp)|\n|-|-|\n|32|Ford Pinto 1971|75|\n|126|Ford Maverick 1974|85|\n|330|Renault Lecar Deluxe 1980|51|\n|336|Ford Mustang Cobra 1980|120|\n|354|Renault 19i 1981|74|\n|374|AMC Concord dl 1982|82|\n\nThere are some conflicts with the reported values, as other websites may have higher or lower hp listed. If there was no better match between 2-3 listings, an average value was aggregated.",
      "outputs": [],
      "execution_count": null
    },
    {
      "metadata": {
        "_cell_guid": "72711b8d-d70d-4da9-8519-f2de7b549f83",
        "_uuid": "659ffe9e8f8b8e2096469242156807a8d6526110",
        "scrolled": false,
        "trusted": true
      },
      "cell_type": "code",
      "source": "# Setting the value for Ford Pinto 1971\ndata.set_value(32,'horsepower',75)\n# Setting the value for Ford Maverick 1974\ndata.set_value(126,'horsepower',85)\n# Setting the value for Renault Lecar Deluxe 1980\ndata.set_value(330,'horsepower',51)\n# Setting the value for Ford Mustang Cobra 1980\ndata.set_value(336,'horsepower',120)\n# Setting the value for Renault 19i 1981\ndata.set_value(354,'horsepower',74)\n# Setting the value for AMC Concord dl 1982\ndata.set_value(374,'horsepower',82)\n\nprint(\"Checking the Ford Pinto data\")\nprint(data.loc[32])\nprint(\"\\nChecking the AMC Concord data\")\nprint(data.loc[374])",
      "execution_count": 22,
      "outputs": [
        {
          "name": "stdout",
          "output_type": "stream",
          "text": "Checking the Ford Pinto data\nmpg                     25\ncylinders                4\ndisplacement            98\nhorsepower              75\nweight                2046\nacceleration            19\nmodel year            1971\norigin                   1\ncar name        ford pinto\nmanufacturer          ford\nmodel                pinto\nName: 32, dtype: object\n\nChecking the AMC Concord data\nmpg                         23\ncylinders                    4\ndisplacement               151\nhorsepower                  82\nweight                    3035\nacceleration              20.5\nmodel year                1982\norigin                       1\ncar name        amc concord dl\nmanufacturer               amc\nmodel               concord dl\nName: 374, dtype: object\n"
        }
      ]
    },
    {
      "metadata": {
        "_cell_guid": "5f9a12e3-1f14-4f2a-b3f5-af08e9f85532",
        "_uuid": "030c37714431517a646806a9434c3afe79c84bea",
        "collapsed": true,
        "trusted": true
      },
      "cell_type": "code",
      "source": "# Cast horsepower to integer\ndata['horsepower'] = data.horsepower.astype(int)",
      "execution_count": 23,
      "outputs": []
    },
    {
      "metadata": {
        "_cell_guid": "59f7d417-b4ad-476c-9a48-9b7ce7256c04",
        "_uuid": "47ddf54d2af44414adc84ce3cec0bfbc3250079d",
        "trusted": true
      },
      "cell_type": "code",
      "source": "# Confirmation\ndata.info()",
      "execution_count": 24,
      "outputs": [
        {
          "name": "stdout",
          "output_type": "stream",
          "text": "<class 'pandas.core.frame.DataFrame'>\nRangeIndex: 398 entries, 0 to 397\nData columns (total 11 columns):\nmpg             398 non-null float64\ncylinders       398 non-null int64\ndisplacement    398 non-null float64\nhorsepower      398 non-null int64\nweight          398 non-null int64\nacceleration    398 non-null float64\nmodel year      398 non-null int64\norigin          398 non-null int64\ncar name        398 non-null object\nmanufacturer    398 non-null object\nmodel           396 non-null object\ndtypes: float64(3), int64(5), object(3)\nmemory usage: 34.3+ KB\n"
        }
      ]
    },
    {
      "metadata": {
        "_cell_guid": "ec2ed8fa-72a8-4602-a94f-8da8f9e0a56c",
        "_uuid": "9b83e971590de0d46fda8082c4149f23eda4fafc"
      },
      "cell_type": "markdown",
      "source": "## EDA\n\nLet's take a look at car model counts by region.",
      "outputs": [],
      "execution_count": null
    },
    {
      "metadata": {
        "_cell_guid": "9a1e505c-a6ee-4166-93e8-fd667af73b51",
        "_uuid": "ee52aa4a04db320fc359194fd0994ae603a212ce",
        "scrolled": true,
        "trusted": true
      },
      "cell_type": "code",
      "source": "plt.hist(data['origin'])\nplt.xlabel('Region')\nplt.ylabel('Count')\nplt.title(u'Counts of models by region')\nplt.xticks(range(1,4))\nplt.show()",
      "execution_count": 25,
      "outputs": [
        {
          "data": {
            "image/png": "[encoded data removed]",
            "text/plain": "<matplotlib.figure.Figure at 0x7f5cd90226a0>"
          },
          "metadata": {},
          "output_type": "display_data"
        }
      ]
    },
    {
      "metadata": {
        "_cell_guid": "95aaddc8-22db-4c87-ae9a-d44d9f569502",
        "_uuid": "194266b00fee4523b57f147d6e92c76e1d0568fe"
      },
      "cell_type": "markdown",
      "source": "There is a disproportionate number of cars from North America, although it stands to reason as the study was originally conducted in North America, along with more car manufacturers in North America.\n\nGiven the number of car models, producing a histogram of car models will not be very beneficial. ",
      "outputs": [],
      "execution_count": null
    },
    {
      "metadata": {
        "_cell_guid": "354174ef-79b3-4397-8c66-61e24ea13445",
        "_uuid": "8dc13e8b11d5058594fb10443f9be507405a898b",
        "scrolled": false,
        "trusted": true
      },
      "cell_type": "code",
      "source": "# Maybe cars by year next?\nplt.hist(data['model year'])\nplt.xlabel('Year')\nplt.ylabel('Count')\nplt.title(u'Counts of models by year')\nplt.show()",
      "execution_count": 26,
      "outputs": [
        {
          "data": {
            "image/png": "[encoded data removed]",
            "text/plain": "<matplotlib.figure.Figure at 0x7f5cd1702588>"
          },
          "metadata": {},
          "output_type": "display_data"
        }
      ]
    },
    {
      "metadata": {
        "_cell_guid": "ffb39e3c-5053-4a55-b2ad-d5cd3eeda5fe",
        "_uuid": "03a39f5d4851500becdde2fdd3aed91fea25c686"
      },
      "cell_type": "markdown",
      "source": "Here, we are observing the various other continuous variables provided in the dataframe.",
      "outputs": [],
      "execution_count": null
    },
    {
      "metadata": {
        "_cell_guid": "b3f51e73-4678-4e88-a13d-1848982ac06c",
        "_uuid": "567763a23677d872a25f0a5a4b863958433db2d8",
        "trusted": true
      },
      "cell_type": "code",
      "source": "# Generate a feature list to iterate in a for loop\nfeat_list = data.columns.tolist()\n# These columns are dropped from the feature list\n# Some are categorical, some cover a range of values that will be similar\nfeat_list.remove('manufacturer')\nfeat_list.remove('model')\nfeat_list.remove('model year')\nfeat_list.remove('origin')\nfeat_list.remove('car name')\nprint(feat_list)",
      "execution_count": 27,
      "outputs": [
        {
          "name": "stdout",
          "output_type": "stream",
          "text": "['mpg', 'cylinders', 'displacement', 'horsepower', 'weight', 'acceleration']\n"
        }
      ]
    },
    {
      "metadata": {
        "_cell_guid": "765ee203-29ea-4ee9-ada0-c8c590051636",
        "_uuid": "34b60c148f38beb5fbf3ffe81f29d32a5bfdfe52",
        "trusted": true
      },
      "cell_type": "code",
      "source": "# Run a for loop for histograms\n\n# # Split it into 3 dataframes\n# data_na = data[data['origin']==1]\n# data_eu = data[data['origin']==2]\n# data_asia = data[data['origin']==3]\n\n# Divide the dataframe into 3 traces by region\n# Plotly doesn't work, have to use Matplotlib\nfor cols in feat_list:\n    print(cols)\n    x0 = data[data[\"origin\"] == 1][cols].values\n    x1 = data[data['origin']==2][cols].values\n    x2 = data[data['origin']==3][cols].values\n    \n    plt.hist(x0, alpha=0.5,label='NA')\n    plt.hist(x1, alpha=0.5,label='EU')\n    plt.hist(x2, alpha=0.5,label='AS')\n    plt.legend(loc='upper right')\n    \n    plt.show()",
      "execution_count": 28,
      "outputs": [
        {
          "name": "stdout",
          "output_type": "stream",
          "text": "mpg\n"
        },
        {
          "data": {
            "image/png": "[encoded data removed]",
            "text/plain": "<matplotlib.figure.Figure at 0x7f5ccf6bf7f0>"
          },
          "metadata": {},
          "output_type": "display_data"
        },
        {
          "name": "stdout",
          "output_type": "stream",
          "text": "cylinders\n"
        },
        {
          "data": {
            "image/png": "[encoded data removed]",
            "text/plain": "<matplotlib.figure.Figure at 0x7f5cd1717828>"
          },
          "metadata": {},
          "output_type": "display_data"
        },
        {
          "name": "stdout",
          "output_type": "stream",
          "text": "displacement\n"
        },
        {
          "data": {
            "image/png": "[encoded data removed]",
            "text/plain": "<matplotlib.figure.Figure at 0x7f5ccf5346a0>"
          },
          "metadata": {},
          "output_type": "display_data"
        },
        {
          "name": "stdout",
          "output_type": "stream",
          "text": "horsepower\n"
        },
        {
          "data": {
            "image/png": "[encoded data removed]",
            "text/plain": "<matplotlib.figure.Figure at 0x7f5cd8febc18>"
          },
          "metadata": {},
          "output_type": "display_data"
        },
        {
          "name": "stdout",
          "output_type": "stream",
          "text": "weight\n"
        },
        {
          "data": {
            "image/png": "[encoded data removed]",
            "text/plain": "<matplotlib.figure.Figure at 0x7f5ccf3c4cc0>"
          },
          "metadata": {},
          "output_type": "display_data"
        },
        {
          "name": "stdout",
          "output_type": "stream",
          "text": "acceleration\n"
        },
        {
          "data": {
            "image/png": "[encoded data removed]",
            "text/plain": "<matplotlib.figure.Figure at 0x7f5ccf282cf8>"
          },
          "metadata": {},
          "output_type": "display_data"
        }
      ]
    },
    {
      "metadata": {
        "_cell_guid": "365e3a70-d807-4b28-b57e-da197eae0979",
        "_uuid": "31c8feebbb7fac3162c481be60e2287caae02fcb",
        "collapsed": true
      },
      "cell_type": "markdown",
      "source": "There are some observable trends here. For mpg, North American cars typically are lower than European or Asian models. North America has a larger number of cars with more cylinders, as well as higher displacement. There is a larger range in horsepower, as well as weight. Acceleration, on the other hand, appears to be very similar.",
      "outputs": [],
      "execution_count": null
    },
    {
      "metadata": {
        "_cell_guid": "1806c470-6ab2-4394-8426-bb0f4d7770b2",
        "_uuid": "430b4c5a5e8cd212ce3816edd507a3a0c5b09e24",
        "collapsed": true,
        "trusted": true
      },
      "cell_type": "code",
      "source": "",
      "execution_count": null,
      "outputs": []
    }
  ],
  "metadata": {
    "kernelspec": {
      "display_name": "Python 3",
      "language": "python",
      "name": "python3"
    },
    "language_info": {
      "name": "python",
      "version": "3.6.1",
      "mimetype": "text/x-python",
      "codemirror_mode": {
        "name": "ipython",
        "version": 3
      },
      "pygments_lexer": "ipython3",
      "nbconvert_exporter": "python",
      "file_extension": ".py"
    }
  },
  "nbformat": 4,
  "nbformat_minor": 1
}
